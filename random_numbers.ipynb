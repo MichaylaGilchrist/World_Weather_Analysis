{
 "cells": [
  {
   "cell_type": "code",
   "execution_count": 1,
   "id": "8d2ad01b",
   "metadata": {},
   "outputs": [],
   "source": [
    "# Import the random module.\n",
    "import random"
   ]
  },
  {
   "cell_type": "code",
   "execution_count": 2,
   "id": "c076b29f",
   "metadata": {},
   "outputs": [
    {
     "data": {
      "text/plain": [
       "52"
      ]
     },
     "execution_count": 2,
     "metadata": {},
     "output_type": "execute_result"
    }
   ],
   "source": [
    "random.randint(-90, 90)\n"
   ]
  },
  {
   "cell_type": "code",
   "execution_count": 3,
   "id": "209fb3df",
   "metadata": {},
   "outputs": [
    {
     "data": {
      "text/plain": [
       "0.9597739817646026"
      ]
     },
     "execution_count": 3,
     "metadata": {},
     "output_type": "execute_result"
    }
   ],
   "source": [
    "random.random()"
   ]
  },
  {
   "cell_type": "code",
   "execution_count": 5,
   "id": "dcb4a8f0",
   "metadata": {},
   "outputs": [
    {
     "data": {
      "text/plain": [
       "55.720843746738424"
      ]
     },
     "execution_count": 5,
     "metadata": {},
     "output_type": "execute_result"
    }
   ],
   "source": [
    "random_number = random.randint(-90, 89) + random.random()\n",
    "random_number"
   ]
  },
  {
   "cell_type": "code",
   "execution_count": 8,
   "id": "880693fe",
   "metadata": {},
   "outputs": [],
   "source": [
    "x = 1\n",
    "latitudes = []\n",
    "while x < 11:\n",
    "    random_lat = random.randint(-90, 89) + random.random()\n",
    "    latitudes.append(random_lat)\n",
    "    x += 1"
   ]
  },
  {
   "cell_type": "code",
   "execution_count": 9,
   "id": "e2e7a5e3",
   "metadata": {},
   "outputs": [
    {
     "data": {
      "text/plain": [
       "[38.731165598207184,\n",
       " -1.8040313792515263,\n",
       " 52.603344026129655,\n",
       " -86.14604090567046,\n",
       " -58.75712278866341,\n",
       " -31.330412141793897,\n",
       " -15.967294957031593,\n",
       " 37.395939431384406,\n",
       " -35.571934384157984,\n",
       " 42.45996977316143]"
      ]
     },
     "execution_count": 9,
     "metadata": {},
     "output_type": "execute_result"
    }
   ],
   "source": [
    "latitudes"
   ]
  },
  {
   "cell_type": "code",
   "execution_count": 20,
   "id": "903f582b",
   "metadata": {},
   "outputs": [
    {
     "data": {
      "text/plain": [
       "-28"
      ]
     },
     "execution_count": 20,
     "metadata": {},
     "output_type": "execute_result"
    }
   ],
   "source": [
    "random.randrange(-90, 90, step=1)"
   ]
  },
  {
   "cell_type": "code",
   "execution_count": 21,
   "id": "9080518c",
   "metadata": {},
   "outputs": [
    {
     "data": {
      "text/plain": [
       "-66"
      ]
     },
     "execution_count": 21,
     "metadata": {},
     "output_type": "execute_result"
    }
   ],
   "source": [
    "random.randrange(-90, 90, step=3)"
   ]
  },
  {
   "cell_type": "code",
   "execution_count": 22,
   "id": "a92d5e8c",
   "metadata": {},
   "outputs": [
    {
     "data": {
      "text/plain": [
       "-49.8107400759029"
      ]
     },
     "execution_count": 22,
     "metadata": {},
     "output_type": "execute_result"
    }
   ],
   "source": [
    "random.uniform(-90,90)"
   ]
  },
  {
   "cell_type": "code",
   "execution_count": 29,
   "id": "7b7dfdbe",
   "metadata": {},
   "outputs": [],
   "source": [
    "# Import the NumPy module\n",
    "import numpy as np"
   ]
  },
  {
   "cell_type": "code",
   "execution_count": 31,
   "id": "966d116b",
   "metadata": {},
   "outputs": [
    {
     "data": {
      "text/plain": [
       "array([ 74.28124014, -10.73383553, -75.88645073,  -7.07838142,\n",
       "       -16.67200626,  62.99814147,   9.80161036,  76.30454057,\n",
       "       -14.29157614, -75.16004804,  -7.63643531,  14.72604847,\n",
       "        14.25937488,  28.11434554,  18.39712626,  51.10441318,\n",
       "        36.95324994, -15.37418398, -59.92656709,  15.01164792,\n",
       "       -10.87038198, -61.33103916,  15.59509273,  75.87422256,\n",
       "        73.29241778, -68.97426369, -33.59391433,  48.98626438,\n",
       "        50.48292957,  52.76669807,  89.57949689,  76.66218563,\n",
       "         8.98527101, -54.11988663,   6.36538297,  -1.40161905,\n",
       "        24.21603708,  55.74865873, -78.6138834 ,  19.67535351,\n",
       "       -35.7003371 ,  21.28006219, -78.26041652,  20.71830781,\n",
       "        64.51986301, -78.21722564, -17.85641888,  10.93303955,\n",
       "       -23.98841039,  40.06467163])"
      ]
     },
     "execution_count": 31,
     "metadata": {},
     "output_type": "execute_result"
    }
   ],
   "source": [
    "np.random.uniform(-90, 90, size=50)"
   ]
  },
  {
   "cell_type": "code",
   "execution_count": 32,
   "id": "e093cc2f",
   "metadata": {},
   "outputs": [],
   "source": [
    "# Import timeit.\n",
    "import timeit"
   ]
  },
  {
   "cell_type": "code",
   "execution_count": 33,
   "id": "0f508ea8",
   "metadata": {},
   "outputs": [
    {
     "name": "stdout",
     "output_type": "stream",
     "text": [
      "13.3 µs ± 89 ns per loop (mean ± std. dev. of 7 runs, 100,000 loops each)\n"
     ]
    }
   ],
   "source": [
    "%timeit np.random.uniform(-90.00, 90.00, size=1500)"
   ]
  },
  {
   "cell_type": "code",
   "execution_count": 34,
   "id": "d13f9b79",
   "metadata": {},
   "outputs": [
    {
     "name": "stdout",
     "output_type": "stream",
     "text": [
      "1.32 ms ± 6.52 µs per loop (mean ± std. dev. of 7 runs, 1,000 loops each)\n"
     ]
    }
   ],
   "source": [
    "def latitudes(size):\n",
    "    latitudes = []\n",
    "    x = 0\n",
    "    while x < (size):\n",
    "        random_lat = random.randint(-90, 90) + random.random()\n",
    "        latitudes.append(random_lat)\n",
    "        x += 1\n",
    "    return latitudes\n",
    "# Call the function with 1500.\n",
    "%timeit latitudes(1500)"
   ]
  },
  {
   "cell_type": "code",
   "execution_count": null,
   "id": "b2635fbe",
   "metadata": {},
   "outputs": [],
   "source": []
  }
 ],
 "metadata": {
  "kernelspec": {
   "display_name": "Python 3 (ipykernel)",
   "language": "python",
   "name": "python3"
  },
  "language_info": {
   "codemirror_mode": {
    "name": "ipython",
    "version": 3
   },
   "file_extension": ".py",
   "mimetype": "text/x-python",
   "name": "python",
   "nbconvert_exporter": "python",
   "pygments_lexer": "ipython3",
   "version": "3.9.12"
  }
 },
 "nbformat": 4,
 "nbformat_minor": 5
}
